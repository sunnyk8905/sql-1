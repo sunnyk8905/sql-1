{
 "cells": [
  {
   "cell_type": "code",
   "execution_count": null,
   "id": "3bbc7e5e-2e21-44d0-ad09-7456683367ad",
   "metadata": {},
   "outputs": [],
   "source": [
    "Q1. What is a database? Differentiate between SQL and NoSQL databases."
   ]
  },
  {
   "cell_type": "code",
   "execution_count": null,
   "id": "224dc5c0-02ae-4b43-86e9-a5d3d59bbe36",
   "metadata": {},
   "outputs": [],
   "source": [
    " A database is an organized collection of structured information or data that is stored and managed on a computer system. It is designed to efficiently store, retrieve, and manipulate large amounts of data, allowing users or applications to access and manage the information easily."
   ]
  },
  {
   "cell_type": "code",
   "execution_count": null,
   "id": "f659981e-3d19-455d-8a86-883373d1a53a",
   "metadata": {},
   "outputs": [],
   "source": [
    "SQL databases are based on the relational model, which organizes data into tables with predefined schemas. These databases use a schema that defines the structure of the data, including tables, columns, and relationships between tables."
   ]
  },
  {
   "cell_type": "code",
   "execution_count": null,
   "id": "b53d5a30-0dbb-42ca-a3c4-5d97f4eed237",
   "metadata": {},
   "outputs": [],
   "source": [
    "NoSQL databases, on the other hand, use a variety of data models, including key-value pairs, documents, graphs, or columnar formats. These databases are more flexible and schema-less, allowing for dynamic and unstructured data."
   ]
  },
  {
   "cell_type": "code",
   "execution_count": null,
   "id": "7edf9d3d-a5be-4cf2-b989-a34a7a6f7d75",
   "metadata": {},
   "outputs": [],
   "source": [
    "Q2. What is DDL? Explain why CREATE, DROP, ALTER, and TRUNCATE are used with an example."
   ]
  },
  {
   "cell_type": "code",
   "execution_count": null,
   "id": "8960e61e-d8a6-47b1-9306-ebd9967b3f3b",
   "metadata": {},
   "outputs": [],
   "source": [
    "DDL stands for Data Definition Language. It is a subset of SQL (Structured Query Language) that is used to define and manage the structure of a database and its objects. "
   ]
  },
  {
   "cell_type": "code",
   "execution_count": null,
   "id": "6ec8253c-ea87-4a08-9575-efe30ee444ff",
   "metadata": {},
   "outputs": [],
   "source": [
    "CREATE: The CREATE statement is used to create new database objects, such as tables, views, indexes, or procedures."
   ]
  },
  {
   "cell_type": "code",
   "execution_count": null,
   "id": "fc80c696-082d-4f58-a27e-444cba9407f6",
   "metadata": {},
   "outputs": [],
   "source": [
    "CREATE TABLE Employees (\n",
    "  EmployeeID INT PRIMARY KEY,\n",
    "  Name VARCHAR(50),\n",
    "  Department VARCHAR(50)\n",
    ");\n"
   ]
  },
  {
   "cell_type": "code",
   "execution_count": null,
   "id": "2185557b-3f27-4976-85af-329227b0bcbf",
   "metadata": {},
   "outputs": [],
   "source": [
    "DROP: The DROP statement is used to delete existing database objects, such as tables, views, or indexes."
   ]
  },
  {
   "cell_type": "code",
   "execution_count": null,
   "id": "84cea368-0759-416f-b832-19d66aa25d07",
   "metadata": {},
   "outputs": [],
   "source": [
    "DROP TABLE Employees;\n"
   ]
  },
  {
   "cell_type": "code",
   "execution_count": null,
   "id": "1fa694f0-a48a-494c-a809-c7edff740625",
   "metadata": {},
   "outputs": [],
   "source": [
    "ALTER: The ALTER statement is used to modify the structure of an existing database object. It allows you to add, modify, or delete columns, constraints, or indexes. "
   ]
  },
  {
   "cell_type": "code",
   "execution_count": null,
   "id": "87b2db36-491d-4fba-bee2-a49c05166ec6",
   "metadata": {},
   "outputs": [],
   "source": [
    "ALTER TABLE Employees\n",
    "ADD Salary DECIMAL(10,2);\n"
   ]
  },
  {
   "cell_type": "code",
   "execution_count": null,
   "id": "a244d0f6-1583-42c8-a004-88ed00a42db0",
   "metadata": {},
   "outputs": [],
   "source": [
    "TRUNCATE: The TRUNCATE statement is used to remove all rows from a table, while keeping the table structure intact. It is faster than the DELETE statement, as it deallocates the data pages, effectively resetting the table. "
   ]
  },
  {
   "cell_type": "code",
   "execution_count": null,
   "id": "78025bed-6268-44ca-bf25-833c442fd009",
   "metadata": {},
   "outputs": [],
   "source": [
    "TRUNCATE TABLE Employees;\n"
   ]
  },
  {
   "cell_type": "code",
   "execution_count": null,
   "id": "44aa7864-dfc1-4566-8050-bbd67015c4ce",
   "metadata": {},
   "outputs": [],
   "source": [
    "Q3. What is DML? Explain INSERT, UPDATE, and DELETE with an example."
   ]
  },
  {
   "cell_type": "code",
   "execution_count": null,
   "id": "6b01ec03-f7f7-40d3-94ae-362105e78389",
   "metadata": {},
   "outputs": [],
   "source": [
    " DML stands for Data Manipulation Language. It is a subset of SQL (Structured Query Language) that is used to manipulate data within the database. "
   ]
  },
  {
   "cell_type": "code",
   "execution_count": null,
   "id": "cb047c14-7a34-49ed-be10-a281d2cafeda",
   "metadata": {},
   "outputs": [],
   "source": [
    "INSERT: The INSERT statement is used to add new records or rows into a table. It allows you to specify the values to be inserted for each column or provide values derived from another query."
   ]
  },
  {
   "cell_type": "code",
   "execution_count": null,
   "id": "e3ec7fda-2cbf-4467-89de-c26162f14408",
   "metadata": {},
   "outputs": [],
   "source": [
    "INSERT INTO Employees (EmployeeID, Name, Department)\n",
    "VALUES (1, 'John Doe', 'IT');\n"
   ]
  },
  {
   "cell_type": "code",
   "execution_count": null,
   "id": "6158e2ed-c3a0-44ff-b98e-003d2a051af3",
   "metadata": {},
   "outputs": [],
   "source": [
    "UPDATE: The UPDATE statement is used to modify existing data in a table. It allows you to update one or more columns of one or more rows based on specified conditions."
   ]
  },
  {
   "cell_type": "code",
   "execution_count": null,
   "id": "5a32c953-e122-42aa-8e7e-120faaed9f26",
   "metadata": {},
   "outputs": [],
   "source": [
    "UPDATE Employees\n",
    "SET Department = 'Finance'\n",
    "WHERE EmployeeID = 1;\n"
   ]
  },
  {
   "cell_type": "code",
   "execution_count": null,
   "id": "ba3d106a-f4d3-48e3-9c7a-e6593b0f6c48",
   "metadata": {},
   "outputs": [],
   "source": [
    "DELETE: The DELETE statement is used to remove one or more rows from a table based on specified conditions. It allows you to delete specific records or all records from a table. "
   ]
  },
  {
   "cell_type": "code",
   "execution_count": null,
   "id": "5233795e-bcae-4f09-9f3a-4a69ad673bd8",
   "metadata": {},
   "outputs": [],
   "source": [
    "DELETE FROM Employees\n",
    "WHERE EmployeeID = 1;\n"
   ]
  },
  {
   "cell_type": "code",
   "execution_count": null,
   "id": "b0e2d6b1-a9c4-44aa-bc4e-92fd22ae47b1",
   "metadata": {},
   "outputs": [],
   "source": [
    "Q4. What is DQL? Explain SELECT with an example."
   ]
  },
  {
   "cell_type": "code",
   "execution_count": null,
   "id": "4c9a1853-6974-42d4-9c46-48f3b3889d02",
   "metadata": {},
   "outputs": [],
   "source": [
    " DQL stands for Data Query Language. It is a subset of SQL (Structured Query Language) that is used to retrieve data from a database. DQL statements are primarily focused on querying and retrieving information from the database tables. "
   ]
  },
  {
   "cell_type": "code",
   "execution_count": null,
   "id": "b6ddcb5a-5ccd-4c17-b05f-243b59db58c0",
   "metadata": {},
   "outputs": [],
   "source": [
    "SELECT: The SELECT statement is used to retrieve data from one or more database tables. It allows you to specify the columns to be retrieved, the table(s) to query, and any conditions or filters to apply."
   ]
  },
  {
   "cell_type": "code",
   "execution_count": null,
   "id": "48702484-e616-4db8-bc0b-0bfe2efb5747",
   "metadata": {},
   "outputs": [],
   "source": [
    "SELECT  column1, column2, ...\n",
    "FROM table_name\n",
    "WHERE condition;\n"
   ]
  },
  {
   "cell_type": "code",
   "execution_count": null,
   "id": "6a02f2dd-2dc9-4f7f-8562-36f56a3f28a0",
   "metadata": {},
   "outputs": [],
   "source": [
    "Q5. Explain Primary Key and Foreign Key."
   ]
  },
  {
   "cell_type": "code",
   "execution_count": null,
   "id": "c4cb8838-a2f3-4f15-8742-f19fe54ca572",
   "metadata": {},
   "outputs": [],
   "source": [
    "A primary key is a column or a combination of columns in a table that uniquely identifies each row or record in that table.\n",
    "Its main purpose is to ensure data integrity and provide a way to uniquely identify and access individual rows within a table."
   ]
  },
  {
   "cell_type": "code",
   "execution_count": null,
   "id": "1fe156bd-1c49-47a8-b138-3bffc38e2fbd",
   "metadata": {},
   "outputs": [],
   "source": [
    "A foreign key is a column or a set of columns in a table that refers to the primary key of another table. It establishes a relationship between two tables, known as a parent-child relationship."
   ]
  },
  {
   "cell_type": "code",
   "execution_count": null,
   "id": "c07f70d4-c19c-4b92-abb5-46083d117258",
   "metadata": {},
   "outputs": [],
   "source": [
    "Q6. Write a python code to connect MySQL to python. Explain the cursor() and execute() method."
   ]
  },
  {
   "cell_type": "code",
   "execution_count": 2,
   "id": "fed39b71-7aec-49e4-8d1b-cfa14562a8aa",
   "metadata": {},
   "outputs": [
    {
     "ename": "ModuleNotFoundError",
     "evalue": "No module named 'mysql'",
     "output_type": "error",
     "traceback": [
      "\u001b[0;31m---------------------------------------------------------------------------\u001b[0m",
      "\u001b[0;31mModuleNotFoundError\u001b[0m                       Traceback (most recent call last)",
      "Cell \u001b[0;32mIn[2], line 1\u001b[0m\n\u001b[0;32m----> 1\u001b[0m \u001b[38;5;28;01mimport\u001b[39;00m \u001b[38;5;21;01mmysql\u001b[39;00m\u001b[38;5;21;01m.\u001b[39;00m\u001b[38;5;21;01mconnector\u001b[39;00m\n\u001b[1;32m      4\u001b[0m connection \u001b[38;5;241m=\u001b[39m mysql\u001b[38;5;241m.\u001b[39mconnector\u001b[38;5;241m.\u001b[39mconnect(\n\u001b[1;32m      5\u001b[0m   host\u001b[38;5;241m=\u001b[39m\u001b[38;5;124m\"\u001b[39m\u001b[38;5;124mlocalhost\u001b[39m\u001b[38;5;124m\"\u001b[39m,\n\u001b[1;32m      6\u001b[0m   user\u001b[38;5;241m=\u001b[39m\u001b[38;5;124m\"\u001b[39m\u001b[38;5;124myour_username\u001b[39m\u001b[38;5;124m\"\u001b[39m,\n\u001b[1;32m      7\u001b[0m   password\u001b[38;5;241m=\u001b[39m\u001b[38;5;124m\"\u001b[39m\u001b[38;5;124myour_password\u001b[39m\u001b[38;5;124m\"\u001b[39m,\n\u001b[1;32m      8\u001b[0m   database\u001b[38;5;241m=\u001b[39m\u001b[38;5;124m\"\u001b[39m\u001b[38;5;124myour_database\u001b[39m\u001b[38;5;124m\"\u001b[39m\n\u001b[1;32m      9\u001b[0m )\n\u001b[1;32m     12\u001b[0m cursor \u001b[38;5;241m=\u001b[39m connection\u001b[38;5;241m.\u001b[39mcursor()\n",
      "\u001b[0;31mModuleNotFoundError\u001b[0m: No module named 'mysql'"
     ]
    }
   ],
   "source": [
    "import mysql.connector\n",
    "\n",
    "\n",
    "connection = mysql.connector.connect(\n",
    "  host=\"localhost\",\n",
    "  user=\"your_username\",\n",
    "  password=\"your_password\",\n",
    "  database=\"your_database\"\n",
    ")\n",
    "\n",
    "\n",
    "cursor = connection.cursor()\n",
    "\n",
    "cursor.execute(\"SELECT * FROM employees\")\n",
    "\n",
    "results = cursor.fetchall()\n",
    "\n",
    "for row in results:\n",
    "    print(row)\n",
    "\n",
    "cursor.close()\n",
    "connection.close()\n"
   ]
  },
  {
   "cell_type": "code",
   "execution_count": null,
   "id": "08545857-c6cd-45cb-92d9-531713bf40fb",
   "metadata": {},
   "outputs": [],
   "source": [
    "A cursor is an object that allows you to execute SQL queries and fetch results from the database.\n",
    "The cursor() method is called on the database connection object to create a new cursor."
   ]
  },
  {
   "cell_type": "code",
   "execution_count": null,
   "id": "41da40cd-d7b9-4d40-a465-48a4f24cc797",
   "metadata": {},
   "outputs": [],
   "source": [
    "The execute() method of the cursor object is used to execute SQL queries."
   ]
  },
  {
   "cell_type": "code",
   "execution_count": null,
   "id": "b46f7b0d-c00d-4f83-9d74-324ae820e3e0",
   "metadata": {},
   "outputs": [],
   "source": [
    "Q7. Give the order of execution of SQL clauses in an SQL query."
   ]
  },
  {
   "cell_type": "code",
   "execution_count": null,
   "id": "c1cce8d2-2705-413b-8650-289c013710bb",
   "metadata": {},
   "outputs": [],
   "source": [
    "SELECT: The SELECT clause is executed first.\n",
    "FROM: The FROM clause is executed after the SELECT clause. It specifies the table(s) from which the data will be retrieved.\n",
    "WHERE: The WHERE clause is executed after the FROM clause.\n",
    "GROUP BY: The GROUP BY clause is executed after the WHERE clause (if present). \n",
    "HAVING: The HAVING clause is executed after the GROUP BY clause.\n",
    "ORDER BY: The ORDER BY clause is executed after the HAVING clause (if present). It is used to sort the result set based on specified columns.\n",
    "LIMIT/OFFSET: The LIMIT/OFFSET clause is executed last. "
   ]
  },
  {
   "cell_type": "code",
   "execution_count": null,
   "id": "d6c0961b-614f-47c6-ac96-7179c2de7916",
   "metadata": {},
   "outputs": [],
   "source": [
    "The order of execution may vary depending on the clauses used and the specific requirements of the query."
   ]
  }
 ],
 "metadata": {
  "kernelspec": {
   "display_name": "Python 3 (ipykernel)",
   "language": "python",
   "name": "python3"
  },
  "language_info": {
   "codemirror_mode": {
    "name": "ipython",
    "version": 3
   },
   "file_extension": ".py",
   "mimetype": "text/x-python",
   "name": "python",
   "nbconvert_exporter": "python",
   "pygments_lexer": "ipython3",
   "version": "3.10.8"
  }
 },
 "nbformat": 4,
 "nbformat_minor": 5
}
